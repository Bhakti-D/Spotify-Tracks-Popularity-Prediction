{
 "cells": [
  {
   "cell_type": "code",
   "execution_count": 1,
   "metadata": {},
   "outputs": [],
   "source": [
    "import pandas as pd\n",
    "import numpy as np\n",
    "import matplotlib as mpl\n",
    "import mplcyberpunk\n",
    "from cycler import cycler\n",
    "import matplotlib.pyplot as plt\n",
    "plt.style.use(\"cyberpunk\")\n",
    "import seaborn as sns\n",
    "\n",
    "import warnings\n",
    "warnings.filterwarnings(\"ignore\")\n",
    "\n",
    "from yellowbrick.target import FeatureCorrelation\n",
    "\n",
    "from sklearn.model_selection import train_test_split,GridSearchCV\n",
    "from sklearn.preprocessing import StandardScaler\n",
    "from sklearn.linear_model import LogisticRegression\n",
    "from sklearn.ensemble import RandomForestClassifier\n",
    "from sklearn.neighbors import KNeighborsClassifier\n",
    "from sklearn.tree import DecisionTreeClassifier\n",
    "from sklearn.svm import SVC, LinearSVC\n",
    "from xgboost import XGBClassifier\n",
    "\n",
    "from sklearn.metrics import accuracy_score,roc_auc_score\n",
    "from imblearn.metrics import classification_report_imbalanced\n",
    "from sklearn.metrics import confusion_matrix, classification_report\n"
   ]
  },
  {
   "cell_type": "code",
   "execution_count": 2,
   "metadata": {},
   "outputs": [
    {
     "data": {
      "text/html": [
       "<div>\n",
       "<style scoped>\n",
       "    .dataframe tbody tr th:only-of-type {\n",
       "        vertical-align: middle;\n",
       "    }\n",
       "\n",
       "    .dataframe tbody tr th {\n",
       "        vertical-align: top;\n",
       "    }\n",
       "\n",
       "    .dataframe thead th {\n",
       "        text-align: right;\n",
       "    }\n",
       "</style>\n",
       "<table border=\"1\" class=\"dataframe\">\n",
       "  <thead>\n",
       "    <tr style=\"text-align: right;\">\n",
       "      <th></th>\n",
       "      <th>popularity</th>\n",
       "      <th>duration_ms</th>\n",
       "      <th>explicit</th>\n",
       "      <th>danceability</th>\n",
       "      <th>energy</th>\n",
       "      <th>key</th>\n",
       "      <th>loudness</th>\n",
       "      <th>mode</th>\n",
       "      <th>speechiness</th>\n",
       "      <th>acousticness</th>\n",
       "      <th>instrumentalness</th>\n",
       "      <th>liveness</th>\n",
       "      <th>valence</th>\n",
       "      <th>tempo</th>\n",
       "      <th>time_signature</th>\n",
       "      <th>year</th>\n",
       "    </tr>\n",
       "  </thead>\n",
       "  <tbody>\n",
       "    <tr>\n",
       "      <th>0</th>\n",
       "      <td>0</td>\n",
       "      <td>126903</td>\n",
       "      <td>0</td>\n",
       "      <td>0.645</td>\n",
       "      <td>0.4450</td>\n",
       "      <td>0</td>\n",
       "      <td>-13.338</td>\n",
       "      <td>1</td>\n",
       "      <td>0.4510</td>\n",
       "      <td>0.674</td>\n",
       "      <td>0.7440</td>\n",
       "      <td>0.151</td>\n",
       "      <td>0.127</td>\n",
       "      <td>104.851</td>\n",
       "      <td>3</td>\n",
       "      <td>1922</td>\n",
       "    </tr>\n",
       "    <tr>\n",
       "      <th>1</th>\n",
       "      <td>0</td>\n",
       "      <td>98200</td>\n",
       "      <td>0</td>\n",
       "      <td>0.695</td>\n",
       "      <td>0.2630</td>\n",
       "      <td>0</td>\n",
       "      <td>-22.136</td>\n",
       "      <td>1</td>\n",
       "      <td>0.9570</td>\n",
       "      <td>0.797</td>\n",
       "      <td>0.0000</td>\n",
       "      <td>0.148</td>\n",
       "      <td>0.655</td>\n",
       "      <td>102.009</td>\n",
       "      <td>1</td>\n",
       "      <td>1922</td>\n",
       "    </tr>\n",
       "    <tr>\n",
       "      <th>2</th>\n",
       "      <td>0</td>\n",
       "      <td>181640</td>\n",
       "      <td>0</td>\n",
       "      <td>0.434</td>\n",
       "      <td>0.1770</td>\n",
       "      <td>1</td>\n",
       "      <td>-21.180</td>\n",
       "      <td>1</td>\n",
       "      <td>0.0512</td>\n",
       "      <td>0.994</td>\n",
       "      <td>0.0218</td>\n",
       "      <td>0.212</td>\n",
       "      <td>0.457</td>\n",
       "      <td>130.418</td>\n",
       "      <td>5</td>\n",
       "      <td>1922</td>\n",
       "    </tr>\n",
       "    <tr>\n",
       "      <th>3</th>\n",
       "      <td>0</td>\n",
       "      <td>176907</td>\n",
       "      <td>0</td>\n",
       "      <td>0.321</td>\n",
       "      <td>0.0946</td>\n",
       "      <td>7</td>\n",
       "      <td>-27.961</td>\n",
       "      <td>1</td>\n",
       "      <td>0.0504</td>\n",
       "      <td>0.995</td>\n",
       "      <td>0.9180</td>\n",
       "      <td>0.104</td>\n",
       "      <td>0.397</td>\n",
       "      <td>169.980</td>\n",
       "      <td>3</td>\n",
       "      <td>1922</td>\n",
       "    </tr>\n",
       "    <tr>\n",
       "      <th>4</th>\n",
       "      <td>0</td>\n",
       "      <td>163080</td>\n",
       "      <td>0</td>\n",
       "      <td>0.402</td>\n",
       "      <td>0.1580</td>\n",
       "      <td>3</td>\n",
       "      <td>-16.900</td>\n",
       "      <td>0</td>\n",
       "      <td>0.0390</td>\n",
       "      <td>0.989</td>\n",
       "      <td>0.1300</td>\n",
       "      <td>0.311</td>\n",
       "      <td>0.196</td>\n",
       "      <td>103.220</td>\n",
       "      <td>4</td>\n",
       "      <td>1922</td>\n",
       "    </tr>\n",
       "  </tbody>\n",
       "</table>\n",
       "</div>"
      ],
      "text/plain": [
       "   popularity  duration_ms  explicit  danceability  energy  key  loudness  \\\n",
       "0           0       126903         0         0.645  0.4450    0   -13.338   \n",
       "1           0        98200         0         0.695  0.2630    0   -22.136   \n",
       "2           0       181640         0         0.434  0.1770    1   -21.180   \n",
       "3           0       176907         0         0.321  0.0946    7   -27.961   \n",
       "4           0       163080         0         0.402  0.1580    3   -16.900   \n",
       "\n",
       "   mode  speechiness  acousticness  instrumentalness  liveness  valence  \\\n",
       "0     1       0.4510         0.674            0.7440     0.151    0.127   \n",
       "1     1       0.9570         0.797            0.0000     0.148    0.655   \n",
       "2     1       0.0512         0.994            0.0218     0.212    0.457   \n",
       "3     1       0.0504         0.995            0.9180     0.104    0.397   \n",
       "4     0       0.0390         0.989            0.1300     0.311    0.196   \n",
       "\n",
       "     tempo  time_signature  year  \n",
       "0  104.851               3  1922  \n",
       "1  102.009               1  1922  \n",
       "2  130.418               5  1922  \n",
       "3  169.980               3  1922  \n",
       "4  103.220               4  1922  "
      ]
     },
     "execution_count": 2,
     "metadata": {},
     "output_type": "execute_result"
    }
   ],
   "source": [
    "# Import the input dataset\n",
    "tracks_new = pd.read_csv('preprocessed_tracks.csv')\n",
    "tracks_new.head()"
   ]
  },
  {
   "cell_type": "code",
   "execution_count": 3,
   "metadata": {},
   "outputs": [
    {
     "data": {
      "text/plain": [
       "(586665, 16)"
      ]
     },
     "execution_count": 3,
     "metadata": {},
     "output_type": "execute_result"
    }
   ],
   "source": [
    "tracks_new.shape"
   ]
  },
  {
   "cell_type": "code",
   "execution_count": 4,
   "metadata": {},
   "outputs": [],
   "source": [
    "tracks_sample = tracks_new.sample(n=50000)"
   ]
  },
  {
   "cell_type": "code",
   "execution_count": 5,
   "metadata": {},
   "outputs": [
    {
     "data": {
      "text/plain": [
       "(50000, 16)"
      ]
     },
     "execution_count": 5,
     "metadata": {},
     "output_type": "execute_result"
    }
   ],
   "source": [
    "tracks_sample.shape"
   ]
  },
  {
   "cell_type": "code",
   "execution_count": 6,
   "metadata": {},
   "outputs": [
    {
     "data": {
      "text/html": [
       "<div>\n",
       "<style scoped>\n",
       "    .dataframe tbody tr th:only-of-type {\n",
       "        vertical-align: middle;\n",
       "    }\n",
       "\n",
       "    .dataframe tbody tr th {\n",
       "        vertical-align: top;\n",
       "    }\n",
       "\n",
       "    .dataframe thead th {\n",
       "        text-align: right;\n",
       "    }\n",
       "</style>\n",
       "<table border=\"1\" class=\"dataframe\">\n",
       "  <thead>\n",
       "    <tr style=\"text-align: right;\">\n",
       "      <th></th>\n",
       "      <th>popularity</th>\n",
       "      <th>duration_ms</th>\n",
       "      <th>explicit</th>\n",
       "      <th>danceability</th>\n",
       "      <th>energy</th>\n",
       "      <th>key</th>\n",
       "      <th>loudness</th>\n",
       "      <th>mode</th>\n",
       "      <th>speechiness</th>\n",
       "      <th>acousticness</th>\n",
       "      <th>instrumentalness</th>\n",
       "      <th>liveness</th>\n",
       "      <th>valence</th>\n",
       "      <th>tempo</th>\n",
       "      <th>time_signature</th>\n",
       "      <th>year</th>\n",
       "    </tr>\n",
       "  </thead>\n",
       "  <tbody>\n",
       "    <tr>\n",
       "      <th>22166</th>\n",
       "      <td>0</td>\n",
       "      <td>94726</td>\n",
       "      <td>0</td>\n",
       "      <td>0.432</td>\n",
       "      <td>0.321</td>\n",
       "      <td>10</td>\n",
       "      <td>-10.552</td>\n",
       "      <td>0</td>\n",
       "      <td>0.0322</td>\n",
       "      <td>0.82400</td>\n",
       "      <td>0.027700</td>\n",
       "      <td>0.136</td>\n",
       "      <td>0.841</td>\n",
       "      <td>117.618</td>\n",
       "      <td>4</td>\n",
       "      <td>1948</td>\n",
       "    </tr>\n",
       "    <tr>\n",
       "      <th>84264</th>\n",
       "      <td>0</td>\n",
       "      <td>330333</td>\n",
       "      <td>0</td>\n",
       "      <td>0.442</td>\n",
       "      <td>0.950</td>\n",
       "      <td>1</td>\n",
       "      <td>-3.616</td>\n",
       "      <td>0</td>\n",
       "      <td>0.0621</td>\n",
       "      <td>0.00207</td>\n",
       "      <td>0.000000</td>\n",
       "      <td>0.141</td>\n",
       "      <td>0.433</td>\n",
       "      <td>139.978</td>\n",
       "      <td>4</td>\n",
       "      <td>2018</td>\n",
       "    </tr>\n",
       "    <tr>\n",
       "      <th>569282</th>\n",
       "      <td>0</td>\n",
       "      <td>243018</td>\n",
       "      <td>0</td>\n",
       "      <td>0.730</td>\n",
       "      <td>0.720</td>\n",
       "      <td>11</td>\n",
       "      <td>-6.451</td>\n",
       "      <td>1</td>\n",
       "      <td>0.0766</td>\n",
       "      <td>0.04910</td>\n",
       "      <td>0.000000</td>\n",
       "      <td>0.200</td>\n",
       "      <td>0.159</td>\n",
       "      <td>140.039</td>\n",
       "      <td>4</td>\n",
       "      <td>2017</td>\n",
       "    </tr>\n",
       "    <tr>\n",
       "      <th>248563</th>\n",
       "      <td>0</td>\n",
       "      <td>321093</td>\n",
       "      <td>0</td>\n",
       "      <td>0.515</td>\n",
       "      <td>0.954</td>\n",
       "      <td>2</td>\n",
       "      <td>-3.458</td>\n",
       "      <td>1</td>\n",
       "      <td>0.1660</td>\n",
       "      <td>0.36500</td>\n",
       "      <td>0.000000</td>\n",
       "      <td>0.958</td>\n",
       "      <td>0.623</td>\n",
       "      <td>125.222</td>\n",
       "      <td>4</td>\n",
       "      <td>1976</td>\n",
       "    </tr>\n",
       "    <tr>\n",
       "      <th>236451</th>\n",
       "      <td>0</td>\n",
       "      <td>283533</td>\n",
       "      <td>0</td>\n",
       "      <td>0.523</td>\n",
       "      <td>0.390</td>\n",
       "      <td>4</td>\n",
       "      <td>-9.290</td>\n",
       "      <td>1</td>\n",
       "      <td>0.0286</td>\n",
       "      <td>0.82100</td>\n",
       "      <td>0.000013</td>\n",
       "      <td>0.324</td>\n",
       "      <td>0.716</td>\n",
       "      <td>111.616</td>\n",
       "      <td>4</td>\n",
       "      <td>2001</td>\n",
       "    </tr>\n",
       "  </tbody>\n",
       "</table>\n",
       "</div>"
      ],
      "text/plain": [
       "        popularity  duration_ms  explicit  danceability  energy  key  \\\n",
       "22166            0        94726         0         0.432   0.321   10   \n",
       "84264            0       330333         0         0.442   0.950    1   \n",
       "569282           0       243018         0         0.730   0.720   11   \n",
       "248563           0       321093         0         0.515   0.954    2   \n",
       "236451           0       283533         0         0.523   0.390    4   \n",
       "\n",
       "        loudness  mode  speechiness  acousticness  instrumentalness  liveness  \\\n",
       "22166    -10.552     0       0.0322       0.82400          0.027700     0.136   \n",
       "84264     -3.616     0       0.0621       0.00207          0.000000     0.141   \n",
       "569282    -6.451     1       0.0766       0.04910          0.000000     0.200   \n",
       "248563    -3.458     1       0.1660       0.36500          0.000000     0.958   \n",
       "236451    -9.290     1       0.0286       0.82100          0.000013     0.324   \n",
       "\n",
       "        valence    tempo  time_signature  year  \n",
       "22166     0.841  117.618               4  1948  \n",
       "84264     0.433  139.978               4  2018  \n",
       "569282    0.159  140.039               4  2017  \n",
       "248563    0.623  125.222               4  1976  \n",
       "236451    0.716  111.616               4  2001  "
      ]
     },
     "execution_count": 6,
     "metadata": {},
     "output_type": "execute_result"
    }
   ],
   "source": [
    "tracks_sample.tail()"
   ]
  },
  {
   "cell_type": "code",
   "execution_count": 7,
   "metadata": {},
   "outputs": [
    {
     "data": {
      "image/png": "[encoded data removed]",
      "text/plain": [
       "<Figure size 576x396 with 1 Axes>"
      ]
     },
     "metadata": {},
     "output_type": "display_data"
    },
    {
     "data": {
      "text/plain": [
       "<AxesSubplot:title={'center':'Features correlation with dependent variable'}, xlabel='Pearson Correlation'>"
      ]
     },
     "execution_count": 7,
     "metadata": {},
     "output_type": "execute_result"
    }
   ],
   "source": [
    "# As calculated in our EDA, loudeness is positively correlated with energy,so we are not including 'energy'\n",
    " \n",
    "features = ['duration_ms', 'explicit', 'danceability',\n",
    "       'key', 'loudness', 'mode', 'speechiness', 'acousticness',\n",
    "       'instrumentalness', 'liveness', 'valence', 'tempo', 'time_signature','year']\n",
    "\n",
    "X = tracks_sample[features]\n",
    "y = tracks_sample.popularity\n",
    "\n",
    "# Create a list of the feature names\n",
    "\n",
    "features = np.array(features)\n",
    "\n",
    "# Instantiate the visualizer\n",
    "visualizer = FeatureCorrelation(labels=features,color='springgreen')\n",
    "visualizer.fit(X, y)        # Fit the data to the visualizer\n",
    "mplcyberpunk.add_glow_effects()\n",
    "visualizer.show()"
   ]
  },
  {
   "cell_type": "code",
   "execution_count": 8,
   "metadata": {},
   "outputs": [
    {
     "data": {
      "text/plain": [
       "array([0.00340079, 0.00614824, 0.0014919 , 0.00160364, 0.00771666,\n",
       "       0.00751237, 0.00340299, 0.00629782, 0.00282952, 0.00129768,\n",
       "       0.00042775, 0.00618634, 0.00911451, 0.0235384 ])"
      ]
     },
     "execution_count": 8,
     "metadata": {},
     "output_type": "execute_result"
    }
   ],
   "source": [
    "from sklearn.feature_selection import mutual_info_classif\n",
    "mutual_info_classif(X,y)"
   ]
  },
  {
   "cell_type": "code",
   "execution_count": 9,
   "metadata": {},
   "outputs": [
    {
     "data": {
      "text/html": [
       "<div>\n",
       "<style scoped>\n",
       "    .dataframe tbody tr th:only-of-type {\n",
       "        vertical-align: middle;\n",
       "    }\n",
       "\n",
       "    .dataframe tbody tr th {\n",
       "        vertical-align: top;\n",
       "    }\n",
       "\n",
       "    .dataframe thead th {\n",
       "        text-align: right;\n",
       "    }\n",
       "</style>\n",
       "<table border=\"1\" class=\"dataframe\">\n",
       "  <thead>\n",
       "    <tr style=\"text-align: right;\">\n",
       "      <th></th>\n",
       "      <th>importance</th>\n",
       "    </tr>\n",
       "  </thead>\n",
       "  <tbody>\n",
       "    <tr>\n",
       "      <th>year</th>\n",
       "      <td>0.021425</td>\n",
       "    </tr>\n",
       "    <tr>\n",
       "      <th>time_signature</th>\n",
       "      <td>0.010918</td>\n",
       "    </tr>\n",
       "    <tr>\n",
       "      <th>loudness</th>\n",
       "      <td>0.008163</td>\n",
       "    </tr>\n",
       "    <tr>\n",
       "      <th>explicit</th>\n",
       "      <td>0.006864</td>\n",
       "    </tr>\n",
       "    <tr>\n",
       "      <th>tempo</th>\n",
       "      <td>0.006206</td>\n",
       "    </tr>\n",
       "    <tr>\n",
       "      <th>acousticness</th>\n",
       "      <td>0.006109</td>\n",
       "    </tr>\n",
       "    <tr>\n",
       "      <th>mode</th>\n",
       "      <td>0.004670</td>\n",
       "    </tr>\n",
       "    <tr>\n",
       "      <th>speechiness</th>\n",
       "      <td>0.003658</td>\n",
       "    </tr>\n",
       "    <tr>\n",
       "      <th>instrumentalness</th>\n",
       "      <td>0.003441</td>\n",
       "    </tr>\n",
       "    <tr>\n",
       "      <th>duration_ms</th>\n",
       "      <td>0.003295</td>\n",
       "    </tr>\n",
       "    <tr>\n",
       "      <th>danceability</th>\n",
       "      <td>0.001813</td>\n",
       "    </tr>\n",
       "    <tr>\n",
       "      <th>key</th>\n",
       "      <td>0.001377</td>\n",
       "    </tr>\n",
       "    <tr>\n",
       "      <th>valence</th>\n",
       "      <td>0.000576</td>\n",
       "    </tr>\n",
       "    <tr>\n",
       "      <th>liveness</th>\n",
       "      <td>0.000000</td>\n",
       "    </tr>\n",
       "  </tbody>\n",
       "</table>\n",
       "</div>"
      ],
      "text/plain": [
       "                  importance\n",
       "year                0.021425\n",
       "time_signature      0.010918\n",
       "loudness            0.008163\n",
       "explicit            0.006864\n",
       "tempo               0.006206\n",
       "acousticness        0.006109\n",
       "mode                0.004670\n",
       "speechiness         0.003658\n",
       "instrumentalness    0.003441\n",
       "duration_ms         0.003295\n",
       "danceability        0.001813\n",
       "key                 0.001377\n",
       "valence             0.000576\n",
       "liveness            0.000000"
      ]
     },
     "execution_count": 9,
     "metadata": {},
     "output_type": "execute_result"
    }
   ],
   "source": [
    "imp=pd.DataFrame(mutual_info_classif(X,y),index=X.columns)\n",
    "imp.columns=['importance']\n",
    "imp.sort_values(by='importance',ascending=False)"
   ]
  },
  {
   "cell_type": "code",
   "execution_count": 10,
   "metadata": {},
   "outputs": [
    {
     "name": "stdout",
     "output_type": "stream",
     "text": [
      "0    48639\n",
      "1     1361\n",
      "Name: popularity, dtype: int64\n",
      "----------------------------------------------------------------------------------------------------\n"
     ]
    },
    {
     "data": {
      "image/png": "[encoded data removed]",
      "text/plain": [
       "<Figure size 576x396 with 1 Axes>"
      ]
     },
     "metadata": {},
     "output_type": "display_data"
    }
   ],
   "source": [
    "print(tracks_sample['popularity'].value_counts())\n",
    "print('----'*25)\n",
    "sns.countplot(x=\"popularity\", data=tracks_sample,color='springgreen')\n",
    "mplcyberpunk.add_glow_effects()\n",
    "plt.show()"
   ]
  },
  {
   "cell_type": "code",
   "execution_count": 11,
   "metadata": {},
   "outputs": [
    {
     "data": {
      "image/png": "[encoded data removed]",
      "text/plain": [
       "<Figure size 576x396 with 1 Axes>"
      ]
     },
     "metadata": {},
     "output_type": "display_data"
    }
   ],
   "source": [
    "sns.distplot(tracks_sample['popularity'],color='springgreen')\n",
    "plt.title(\"Distribution of Popularity\")\n",
    "mplcyberpunk.add_glow_effects()\n",
    "plt.show()"
   ]
  },
  {
   "cell_type": "code",
   "execution_count": 12,
   "metadata": {},
   "outputs": [
    {
     "data": {
      "text/plain": [
       "1    48639\n",
       "0    48639\n",
       "Name: popularity, dtype: int64"
      ]
     },
     "execution_count": 12,
     "metadata": {},
     "output_type": "execute_result"
    }
   ],
   "source": [
    "# Balance the dataset using SMOTE (Synthetic Minority Oversampling Technique)\n",
    "from imblearn.over_sampling import SMOTE\n",
    "\n",
    "smote = SMOTE(sampling_strategy='minority')\n",
    "X_sm, y_sm = smote.fit_resample(X, y)\n",
    "y_sm.value_counts()\n",
    " "
   ]
  },
  {
   "cell_type": "code",
   "execution_count": 13,
   "metadata": {},
   "outputs": [
    {
     "data": {
      "image/png": "[encoded data removed]",
      "text/plain": [
       "<Figure size 576x396 with 1 Axes>"
      ]
     },
     "metadata": {},
     "output_type": "display_data"
    }
   ],
   "source": [
    "sns.distplot(y_sm,color='springgreen')\n",
    "plt.title(\"Distribution of Popularity\")\n",
    "mplcyberpunk.add_glow_effects()\n",
    "plt.show()"
   ]
  },
  {
   "cell_type": "code",
   "execution_count": 14,
   "metadata": {},
   "outputs": [],
   "source": [
    "# Split training/test datasets\n",
    "X_train, X_test, y_train, y_test = train_test_split(X_sm,y_sm, random_state=42,test_size=0.20,stratify=y_sm)\n",
    " \n",
    "# Create a StandardScaler instance\n",
    "scaler = StandardScaler()\n",
    "\n",
    "# Fit the StandardScaler\n",
    "X_scaler = scaler.fit(X_train)\n",
    "\n",
    "# Scale the data\n",
    "X_train = X_scaler.transform(X_train) \n",
    "X_test = X_scaler.transform(X_test)"
   ]
  },
  {
   "cell_type": "markdown",
   "metadata": {},
   "source": [
    "### Model Building \n",
    " - 1. Calculate the Accuracy.\n",
    " - 2. Check the Performance of the model with Confusion Matrix\n",
    "\n",
    "#### Why to use both?\n",
    "Because,Confusion matrices give a better idea of a model’s performance than classification accuracy does.\n",
    "Good model should always have high performance in predicting True Positives and True Negatives. \n",
    " "
   ]
  },
  {
   "cell_type": "code",
   "execution_count": 15,
   "metadata": {},
   "outputs": [
    {
     "name": "stdout",
     "output_type": "stream",
     "text": [
      "Accuracy:  0.7774465460526315\n",
      "---------------------------------------------------------------------------\n",
      "Confusion Matrix for LR_Model :\n",
      " [[7066 2662]\n",
      " [1668 8060]]\n"
     ]
    }
   ],
   "source": [
    "# Logistic Regression\n",
    "LR_Model = LogisticRegression(solver=\"lbfgs\",max_iter=100)\n",
    "LR_Model.fit(X_train, y_train)\n",
    "LR_Predict = LR_Model.predict(X_test)\n",
    "LR_Accuracy = accuracy_score(y_test, LR_Predict)\n",
    "print(\"Accuracy: \",LR_Accuracy)\n",
    "print('---'*25)\n",
    "LR_matrix = confusion_matrix(y_test, LR_Predict)\n",
    "print(\"Confusion Matrix for LR_Model :\\n\",LR_matrix) \n"
   ]
  },
  {
   "cell_type": "code",
   "execution_count": 16,
   "metadata": {},
   "outputs": [
    {
     "name": "stdout",
     "output_type": "stream",
     "text": [
      "Accuracy:  0.8925267269736842\n",
      "---------------------------------------------------------------------------\n",
      "Confusion Matrix for KNN_Model :\n",
      " [[8342 1386]\n",
      " [ 705 9023]]\n"
     ]
    }
   ],
   "source": [
    "# Decision Tree Classifier\n",
    "DT_Model = DecisionTreeClassifier(criterion='entropy', max_depth=20, min_samples_leaf=5)\n",
    "DT_Model.fit(X_train, y_train)\n",
    "DT_Predict = DT_Model.predict(X_test)\n",
    "DT_Accuracy = accuracy_score(y_test, DT_Predict)\n",
    "print(\"Accuracy: \",DT_Accuracy)\n",
    "print('---'*25)\n",
    "DT_matrix = confusion_matrix(y_test, DT_Predict)\n",
    "print(\"Confusion Matrix for KNN_Model :\\n\",DT_matrix) "
   ]
  },
  {
   "cell_type": "code",
   "execution_count": 17,
   "metadata": {},
   "outputs": [
    {
     "name": "stdout",
     "output_type": "stream",
     "text": [
      "Accuracy:  0.9506578947368421\n",
      "---------------------------------------------------------------------------\n",
      "Confusion Matrix for KNN_Model :\n",
      " [[8342 1386]\n",
      " [ 705 9023]]\n"
     ]
    }
   ],
   "source": [
    "# Random Forest Classifier\n",
    "RFC_Model = RandomForestClassifier(n_estimators=100,\n",
    "                                 min_samples_split=5,\n",
    "                                 min_samples_leaf=1,\n",
    "                                 max_features='auto',\n",
    "                                 max_depth=30)\n",
    "RFC_Model.fit(X_train, y_train)\n",
    "RFC_Predict = RFC_Model.predict(X_test)\n",
    "RFC_Accuracy = accuracy_score(y_test, RFC_Predict)\n",
    "print(\"Accuracy: \",RFC_Accuracy)\n",
    "print('---'*25)\n",
    "RFC_matrix = confusion_matrix(y_test, RFC_Predict)\n",
    "print(\"Confusion Matrix for KNN_Model :\\n\",DT_matrix) "
   ]
  },
  {
   "cell_type": "code",
   "execution_count": 18,
   "metadata": {},
   "outputs": [
    {
     "name": "stdout",
     "output_type": "stream",
     "text": [
      "Accuracy:  0.8943256578947368\n",
      "---------------------------------------------------------------------------\n",
      "Confusion Matrix for KNN_Model :\n",
      " [[7708 2020]\n",
      " [  36 9692]]\n"
     ]
    }
   ],
   "source": [
    "# K-nearest neighbors\n",
    "KNN_Model = KNeighborsClassifier(n_neighbors = 5, weights = 'distance',algorithm = 'brute',metric = 'manhattan')\n",
    "KNN_Model.fit(X_train, y_train)\n",
    "KNN_Predict = KNN_Model.predict(X_test)\n",
    "KNN_Accuracy = accuracy_score(y_test, KNN_Predict)\n",
    "print(\"Accuracy: \",KNN_Accuracy)\n",
    "print('---'*25)\n",
    "KNN_matrix = confusion_matrix(y_test, KNN_Predict)\n",
    "print(\"Confusion Matrix for KNN_Model :\\n\",KNN_matrix) "
   ]
  },
  {
   "cell_type": "code",
   "execution_count": 19,
   "metadata": {},
   "outputs": [
    {
     "name": "stdout",
     "output_type": "stream",
     "text": [
      "Accuracy:  0.926500822368421\n",
      "---------------------------------------------------------------------------\n",
      "Confusion Matrix for XGB_Model :\n",
      " [[8687 1041]\n",
      " [ 389 9339]]\n"
     ]
    }
   ],
   "source": [
    "# XGBoost\n",
    "XGB_Model = XGBClassifier()\n",
    "XGB_Model.fit(X_train, y_train,eval_metric='rmse')\n",
    "XGB_Predict = XGB_Model.predict(X_test)\n",
    "XGB_Accuracy = accuracy_score(y_test, XGB_Predict)\n",
    "print(\"Accuracy: \",XGB_Accuracy)\n",
    "print('---'*25)\n",
    "XGB_matrix = confusion_matrix(y_test, XGB_Predict)\n",
    "print(\"Confusion Matrix for XGB_Model :\\n\",XGB_matrix) "
   ]
  },
  {
   "cell_type": "code",
   "execution_count": 20,
   "metadata": {},
   "outputs": [
    {
     "name": "stdout",
     "output_type": "stream",
     "text": [
      "Accuracy:  0.8572676809210527\n",
      "---------------------------------------------------------------------------\n",
      "Confusion Matrix for SVC_Model :\n",
      " [[7943 1785]\n",
      " [ 992 8736]]\n"
     ]
    }
   ],
   "source": [
    "#Support Vector Machine\n",
    "from sklearn.svm import SVC\n",
    "SVC_Model = SVC()\n",
    "SVC_Model.fit(X_train, y_train)\n",
    "SVC_Predict = SVC_Model.predict(X_test)\n",
    "SVC_Accuracy = accuracy_score(y_test, SVC_Predict)\n",
    "print(\"Accuracy: \",SVC_Accuracy)\n",
    "print('---'*25)\n",
    "SVC_matrix = confusion_matrix(y_test, SVC_Predict)\n",
    "print(\"Confusion Matrix for SVC_Model :\\n\",SVC_matrix) "
   ]
  },
  {
   "cell_type": "code",
   "execution_count": 21,
   "metadata": {},
   "outputs": [],
   "source": [
    "# Compare Accuracy\n",
    "model_performance_accuracy = pd.DataFrame({'Model': ['LogisticRegression', \n",
    "                                                     'DecisionTreeClassifier',\n",
    "                                                     'RandomForestClassifier', \n",
    "                                                     'KNeighborsClassifier',\n",
    "                                                     'XGBClassifier',\n",
    "                                                     'SVC'],\n",
    "                                            'Accuracy': [LR_Accuracy,\n",
    "                                                         DT_Accuracy,\n",
    "                                                         RFC_Accuracy,\n",
    "                                                         KNN_Accuracy,\n",
    "                                                         XGB_Accuracy,\n",
    "                                                         SVC_Accuracy]})"
   ]
  },
  {
   "cell_type": "code",
   "execution_count": 22,
   "metadata": {},
   "outputs": [
    {
     "data": {
      "text/html": [
       "<div>\n",
       "<style scoped>\n",
       "    .dataframe tbody tr th:only-of-type {\n",
       "        vertical-align: middle;\n",
       "    }\n",
       "\n",
       "    .dataframe tbody tr th {\n",
       "        vertical-align: top;\n",
       "    }\n",
       "\n",
       "    .dataframe thead th {\n",
       "        text-align: right;\n",
       "    }\n",
       "</style>\n",
       "<table border=\"1\" class=\"dataframe\">\n",
       "  <thead>\n",
       "    <tr style=\"text-align: right;\">\n",
       "      <th></th>\n",
       "      <th>Model</th>\n",
       "      <th>Accuracy</th>\n",
       "    </tr>\n",
       "  </thead>\n",
       "  <tbody>\n",
       "    <tr>\n",
       "      <th>2</th>\n",
       "      <td>RandomForestClassifier</td>\n",
       "      <td>0.950658</td>\n",
       "    </tr>\n",
       "    <tr>\n",
       "      <th>4</th>\n",
       "      <td>XGBClassifier</td>\n",
       "      <td>0.926501</td>\n",
       "    </tr>\n",
       "    <tr>\n",
       "      <th>3</th>\n",
       "      <td>KNeighborsClassifier</td>\n",
       "      <td>0.894326</td>\n",
       "    </tr>\n",
       "    <tr>\n",
       "      <th>1</th>\n",
       "      <td>DecisionTreeClassifier</td>\n",
       "      <td>0.892527</td>\n",
       "    </tr>\n",
       "    <tr>\n",
       "      <th>5</th>\n",
       "      <td>SVC</td>\n",
       "      <td>0.857268</td>\n",
       "    </tr>\n",
       "    <tr>\n",
       "      <th>0</th>\n",
       "      <td>LogisticRegression</td>\n",
       "      <td>0.777447</td>\n",
       "    </tr>\n",
       "  </tbody>\n",
       "</table>\n",
       "</div>"
      ],
      "text/plain": [
       "                    Model  Accuracy\n",
       "2  RandomForestClassifier  0.950658\n",
       "4           XGBClassifier  0.926501\n",
       "3    KNeighborsClassifier  0.894326\n",
       "1  DecisionTreeClassifier  0.892527\n",
       "5                     SVC  0.857268\n",
       "0      LogisticRegression  0.777447"
      ]
     },
     "execution_count": 22,
     "metadata": {},
     "output_type": "execute_result"
    }
   ],
   "source": [
    "# Which algorithm gives the maximum accuracy?\n",
    "model_performance_accuracy.sort_values(by = \"Accuracy\", ascending = False)"
   ]
  },
  {
   "cell_type": "markdown",
   "metadata": {},
   "source": [
    "- Out of all the models, the highest accuracy is achieved by Random Forest Classifier"
   ]
  },
  {
   "cell_type": "code",
   "execution_count": 23,
   "metadata": {},
   "outputs": [
    {
     "name": "stdout",
     "output_type": "stream",
     "text": [
      "              precision    recall  f1-score   support\n",
      "\n",
      "           0       0.97      0.93      0.95      9728\n",
      "           1       0.93      0.97      0.95      9728\n",
      "\n",
      "    accuracy                           0.95     19456\n",
      "   macro avg       0.95      0.95      0.95     19456\n",
      "weighted avg       0.95      0.95      0.95     19456\n",
      "\n"
     ]
    }
   ],
   "source": [
    "# What is Precision and recall?\n",
    "from sklearn.metrics import confusion_matrix,classification_report\n",
    "\n",
    "print(classification_report(y_test, RFC_Predict))"
   ]
  },
  {
   "cell_type": "markdown",
   "metadata": {},
   "source": [
    "### Save the Model"
   ]
  },
  {
   "cell_type": "code",
   "execution_count": 24,
   "metadata": {},
   "outputs": [],
   "source": [
    "# save the model \n",
    "import pickle \n",
    "pickle_out = open(\"deploy.pkl\", mode = \"wb\") \n",
    "pickle.dump(RFC_Model, pickle_out) \n",
    "pickle_out.close()"
   ]
  },
  {
   "cell_type": "code",
   "execution_count": 25,
   "metadata": {},
   "outputs": [
    {
     "name": "stdout",
     "output_type": "stream",
     "text": [
      "[0]\n"
     ]
    }
   ],
   "source": [
    "import numpy as np \n",
    "import pickle\n",
    "\n",
    "pickle_in = open('deploy.pkl', 'rb')\n",
    "\n",
    "RFC_Model = pickle.load(pickle_in)\n",
    " \n",
    "data = np.array([208216,1,0.626,10,7.0851,1,0.147,0.138,0.312,0.095,0.65,7.715,4,2020])\n",
    "data = data.reshape(1,-1)\n",
    "\n",
    "pre = RFC_Model.predict(data)\n",
    "print(pre) "
   ]
  },
  {
   "cell_type": "code",
   "execution_count": 26,
   "metadata": {},
   "outputs": [
    {
     "data": {
      "text/html": [
       "<style  type=\"text/css\" >\n",
       "#T_3f406a2e_9b5c_11ec_b221_7c8ae1581979row0_col0,#T_3f406a2e_9b5c_11ec_b221_7c8ae1581979row0_col1,#T_3f406a2e_9b5c_11ec_b221_7c8ae1581979row1_col0,#T_3f406a2e_9b5c_11ec_b221_7c8ae1581979row3_col0,#T_3f406a2e_9b5c_11ec_b221_7c8ae1581979row3_col1,#T_3f406a2e_9b5c_11ec_b221_7c8ae1581979row4_col1,#T_3f406a2e_9b5c_11ec_b221_7c8ae1581979row5_col0,#T_3f406a2e_9b5c_11ec_b221_7c8ae1581979row5_col1,#T_3f406a2e_9b5c_11ec_b221_7c8ae1581979row6_col0,#T_3f406a2e_9b5c_11ec_b221_7c8ae1581979row6_col1,#T_3f406a2e_9b5c_11ec_b221_7c8ae1581979row7_col0{\n",
       "            background-color:  #f7fcf5;\n",
       "            color:  #000000;\n",
       "        }#T_3f406a2e_9b5c_11ec_b221_7c8ae1581979row1_col1,#T_3f406a2e_9b5c_11ec_b221_7c8ae1581979row2_col0,#T_3f406a2e_9b5c_11ec_b221_7c8ae1581979row2_col1,#T_3f406a2e_9b5c_11ec_b221_7c8ae1581979row4_col0,#T_3f406a2e_9b5c_11ec_b221_7c8ae1581979row7_col1,#T_3f406a2e_9b5c_11ec_b221_7c8ae1581979row8_col0,#T_3f406a2e_9b5c_11ec_b221_7c8ae1581979row8_col1,#T_3f406a2e_9b5c_11ec_b221_7c8ae1581979row9_col0,#T_3f406a2e_9b5c_11ec_b221_7c8ae1581979row9_col1{\n",
       "            background-color:  #00441b;\n",
       "            color:  #f1f1f1;\n",
       "        }</style><table id=\"T_3f406a2e_9b5c_11ec_b221_7c8ae1581979\" ><thead>    <tr>        <th class=\"blank level0\" ></th>        <th class=\"col_heading level0 col0\" >Actual Points</th>        <th class=\"col_heading level0 col1\" >Predicted Points</th>    </tr></thead><tbody>\n",
       "                <tr>\n",
       "                        <th id=\"T_3f406a2e_9b5c_11ec_b221_7c8ae1581979level0_row0\" class=\"row_heading level0 row0\" >0</th>\n",
       "                        <td id=\"T_3f406a2e_9b5c_11ec_b221_7c8ae1581979row0_col0\" class=\"data row0 col0\" >0</td>\n",
       "                        <td id=\"T_3f406a2e_9b5c_11ec_b221_7c8ae1581979row0_col1\" class=\"data row0 col1\" >0</td>\n",
       "            </tr>\n",
       "            <tr>\n",
       "                        <th id=\"T_3f406a2e_9b5c_11ec_b221_7c8ae1581979level0_row1\" class=\"row_heading level0 row1\" >1</th>\n",
       "                        <td id=\"T_3f406a2e_9b5c_11ec_b221_7c8ae1581979row1_col0\" class=\"data row1 col0\" >0</td>\n",
       "                        <td id=\"T_3f406a2e_9b5c_11ec_b221_7c8ae1581979row1_col1\" class=\"data row1 col1\" >1</td>\n",
       "            </tr>\n",
       "            <tr>\n",
       "                        <th id=\"T_3f406a2e_9b5c_11ec_b221_7c8ae1581979level0_row2\" class=\"row_heading level0 row2\" >2</th>\n",
       "                        <td id=\"T_3f406a2e_9b5c_11ec_b221_7c8ae1581979row2_col0\" class=\"data row2 col0\" >1</td>\n",
       "                        <td id=\"T_3f406a2e_9b5c_11ec_b221_7c8ae1581979row2_col1\" class=\"data row2 col1\" >1</td>\n",
       "            </tr>\n",
       "            <tr>\n",
       "                        <th id=\"T_3f406a2e_9b5c_11ec_b221_7c8ae1581979level0_row3\" class=\"row_heading level0 row3\" >3</th>\n",
       "                        <td id=\"T_3f406a2e_9b5c_11ec_b221_7c8ae1581979row3_col0\" class=\"data row3 col0\" >0</td>\n",
       "                        <td id=\"T_3f406a2e_9b5c_11ec_b221_7c8ae1581979row3_col1\" class=\"data row3 col1\" >0</td>\n",
       "            </tr>\n",
       "            <tr>\n",
       "                        <th id=\"T_3f406a2e_9b5c_11ec_b221_7c8ae1581979level0_row4\" class=\"row_heading level0 row4\" >4</th>\n",
       "                        <td id=\"T_3f406a2e_9b5c_11ec_b221_7c8ae1581979row4_col0\" class=\"data row4 col0\" >1</td>\n",
       "                        <td id=\"T_3f406a2e_9b5c_11ec_b221_7c8ae1581979row4_col1\" class=\"data row4 col1\" >0</td>\n",
       "            </tr>\n",
       "            <tr>\n",
       "                        <th id=\"T_3f406a2e_9b5c_11ec_b221_7c8ae1581979level0_row5\" class=\"row_heading level0 row5\" >5</th>\n",
       "                        <td id=\"T_3f406a2e_9b5c_11ec_b221_7c8ae1581979row5_col0\" class=\"data row5 col0\" >0</td>\n",
       "                        <td id=\"T_3f406a2e_9b5c_11ec_b221_7c8ae1581979row5_col1\" class=\"data row5 col1\" >0</td>\n",
       "            </tr>\n",
       "            <tr>\n",
       "                        <th id=\"T_3f406a2e_9b5c_11ec_b221_7c8ae1581979level0_row6\" class=\"row_heading level0 row6\" >6</th>\n",
       "                        <td id=\"T_3f406a2e_9b5c_11ec_b221_7c8ae1581979row6_col0\" class=\"data row6 col0\" >0</td>\n",
       "                        <td id=\"T_3f406a2e_9b5c_11ec_b221_7c8ae1581979row6_col1\" class=\"data row6 col1\" >0</td>\n",
       "            </tr>\n",
       "            <tr>\n",
       "                        <th id=\"T_3f406a2e_9b5c_11ec_b221_7c8ae1581979level0_row7\" class=\"row_heading level0 row7\" >7</th>\n",
       "                        <td id=\"T_3f406a2e_9b5c_11ec_b221_7c8ae1581979row7_col0\" class=\"data row7 col0\" >0</td>\n",
       "                        <td id=\"T_3f406a2e_9b5c_11ec_b221_7c8ae1581979row7_col1\" class=\"data row7 col1\" >1</td>\n",
       "            </tr>\n",
       "            <tr>\n",
       "                        <th id=\"T_3f406a2e_9b5c_11ec_b221_7c8ae1581979level0_row8\" class=\"row_heading level0 row8\" >8</th>\n",
       "                        <td id=\"T_3f406a2e_9b5c_11ec_b221_7c8ae1581979row8_col0\" class=\"data row8 col0\" >1</td>\n",
       "                        <td id=\"T_3f406a2e_9b5c_11ec_b221_7c8ae1581979row8_col1\" class=\"data row8 col1\" >1</td>\n",
       "            </tr>\n",
       "            <tr>\n",
       "                        <th id=\"T_3f406a2e_9b5c_11ec_b221_7c8ae1581979level0_row9\" class=\"row_heading level0 row9\" >9</th>\n",
       "                        <td id=\"T_3f406a2e_9b5c_11ec_b221_7c8ae1581979row9_col0\" class=\"data row9 col0\" >1</td>\n",
       "                        <td id=\"T_3f406a2e_9b5c_11ec_b221_7c8ae1581979row9_col1\" class=\"data row9 col1\" >1</td>\n",
       "            </tr>\n",
       "    </tbody></table>"
      ],
      "text/plain": [
       "<pandas.io.formats.style.Styler at 0x22c235e60d0>"
      ]
     },
     "execution_count": 26,
     "metadata": {},
     "output_type": "execute_result"
    }
   ],
   "source": [
    "#Actual Vs Predicted\n",
    "data2 = pd.DataFrame({'Actual Points': y_test.tolist(), 'Predicted Points': RFC_Predict.tolist()})\n",
    "data2.head(10).style.background_gradient(cmap='Greens')"
   ]
  }
 ],
 "metadata": {
  "kernelspec": {
   "display_name": "Python 3",
   "language": "python",
   "name": "python3"
  },
  "language_info": {
   "codemirror_mode": {
    "name": "ipython",
    "version": 3
   },
   "file_extension": ".py",
   "mimetype": "text/x-python",
   "name": "python",
   "nbconvert_exporter": "python",
   "pygments_lexer": "ipython3",
   "version": "3.8.5"
  }
 },
 "nbformat": 4,
 "nbformat_minor": 4
}
